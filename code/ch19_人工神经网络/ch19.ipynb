{
 "cells": [
  {
   "cell_type": "markdown",
   "metadata": {},
   "source": [
    "# Python 机器学习实战 ——代码样例\n",
    "\n",
    "# 第十九章 人工神经网络"
   ]
  },
  {
   "cell_type": "markdown",
   "metadata": {},
   "source": [
    "## 卷积神经网络识别手写数字图片\n",
    "\n",
    "下面，我们用 Keras搭建一个简单的卷积神经网络，识别 Mnist 数字图片数据集。\n"
   ]
  },
  {
   "cell_type": "code",
   "execution_count": 2,
   "metadata": {
    "collapsed": false
   },
   "outputs": [
    {
     "name": "stderr",
     "output_type": "stream",
     "text": [
      "Using TensorFlow backend.\n"
     ]
    },
    {
     "data": {
      "image/png": "[encoded data removed]",
      "text/plain": [
       "<matplotlib.figure.Figure at 0x1391f1a1898>"
      ]
     },
     "metadata": {},
     "output_type": "display_data"
    }
   ],
   "source": [
    "# 将matplotlib的图表直接嵌入到Notebook之中。\n",
    "%matplotlib inline  \n",
    "\n",
    "# 导入相关的库。\n",
    "\n",
    "import numpy as np\n",
    "import matplotlib.pyplot as plt\n",
    "plt.rcParams['figure.figsize'] = (7,7)\n",
    "from keras.datasets import mnist   \n",
    "from keras.models import Sequential\n",
    "from keras.layers.core import Dense, Dropout, Activation,Flatten \n",
    "from keras.utils import np_utils\n",
    "from keras import backend as K\n",
    "from keras.layers import Convolution2D, MaxPooling2D\n",
    "\n",
    "# 设置变量。\n",
    "\n",
    "nb_classes = 10\n",
    "img_rows, img_cols = 28, 28\n",
    "\n",
    "# 下载数据集。\n",
    "\n",
    "(X_train, y_train), (X_test, y_test) = mnist.load_data()\n",
    "\n",
    "# 查看训练样本图片的样子，如下图所示。\n",
    "\n",
    "for i in range(9):\n",
    "    plt.subplot(3,3,i+1)\n",
    "    plt.imshow(X_train[i], cmap='gray', interpolation='none')\n",
    "    plt.title(\"Class {}\".format(y_train[i]))\n"
   ]
  },
  {
   "cell_type": "code",
   "execution_count": 3,
   "metadata": {
    "collapsed": false
   },
   "outputs": [
    {
     "name": "stdout",
     "output_type": "stream",
     "text": [
      "X_train original shape (60000, 28, 28, 1)\n",
      "y_train original shape (60000,)\n",
      "Train on 60000 samples, validate on 10000 samples\n",
      "Epoch 1/15\n",
      "60000/60000 [==============================] - 180s - loss: 0.1849 - acc: 0.9451 - val_loss: 0.0605 - val_acc: 0.9811\n",
      "Epoch 2/15\n",
      "60000/60000 [==============================] - 180s - loss: 0.0513 - acc: 0.9844 - val_loss: 0.0447 - val_acc: 0.9841\n",
      "Epoch 3/15\n",
      "60000/60000 [==============================] - 181s - loss: 0.0327 - acc: 0.9892 - val_loss: 0.0358 - val_acc: 0.9887\n",
      "Epoch 4/15\n",
      "60000/60000 [==============================] - 180s - loss: 0.0220 - acc: 0.9929 - val_loss: 0.0369 - val_acc: 0.9887\n",
      "Epoch 5/15\n",
      "60000/60000 [==============================] - 177s - loss: 0.0169 - acc: 0.9946 - val_loss: 0.0417 - val_acc: 0.9878\n",
      "Epoch 6/15\n",
      "60000/60000 [==============================] - 169s - loss: 0.0117 - acc: 0.9962 - val_loss: 0.0396 - val_acc: 0.9880\n",
      "Epoch 7/15\n",
      "60000/60000 [==============================] - 173s - loss: 0.0108 - acc: 0.9964 - val_loss: 0.0332 - val_acc: 0.9900\n",
      "Epoch 8/15\n",
      "60000/60000 [==============================] - 165s - loss: 0.0069 - acc: 0.9978 - val_loss: 0.0353 - val_acc: 0.9894\n",
      "Epoch 9/15\n",
      "60000/60000 [==============================] - 169s - loss: 0.0074 - acc: 0.9977 - val_loss: 0.0472 - val_acc: 0.9870\n",
      "Epoch 10/15\n",
      "60000/60000 [==============================] - 157s - loss: 0.0061 - acc: 0.9980 - val_loss: 0.0382 - val_acc: 0.9901\n",
      "Epoch 11/15\n",
      "60000/60000 [==============================] - 169s - loss: 0.0046 - acc: 0.9984 - val_loss: 0.0401 - val_acc: 0.9901\n",
      "Epoch 12/15\n",
      "60000/60000 [==============================] - 154s - loss: 0.0059 - acc: 0.9980 - val_loss: 0.0505 - val_acc: 0.9879\n",
      "Epoch 13/15\n",
      "60000/60000 [==============================] - 150s - loss: 0.0051 - acc: 0.9983 - val_loss: 0.0452 - val_acc: 0.9900\n",
      "Epoch 14/15\n",
      "60000/60000 [==============================] - 150s - loss: 0.0052 - acc: 0.9982 - val_loss: 0.0406 - val_acc: 0.9885\n",
      "Epoch 15/15\n",
      "60000/60000 [==============================] - 158s - loss: 0.0027 - acc: 0.9991 - val_loss: 0.0504 - val_acc: 0.9882\n",
      "10000/10000 [==============================] - 10s    \n",
      "Test score: 0.0504349716733\n",
      "Test accuracy: 0.9882\n"
     ]
    }
   ],
   "source": [
    "# 数据预处理。\n",
    "\n",
    "if K.image_dim_ordering() == 'th':\n",
    "    X_train = X_train.reshape(X_train.shape[0], 1, img_rows, img_cols)\n",
    "    X_test = X_test.reshape(X_test.shape[0], 1, img_rows, img_cols)\n",
    "    input_shape = (1, img_rows, img_cols)\n",
    "else:\n",
    "    X_train = X_train.reshape(X_train.shape[0], img_rows, img_cols, 1)\n",
    "    X_test = X_test.reshape(X_test.shape[0], img_rows, img_cols, 1)\n",
    "    input_shape = (img_rows, img_cols, 1)\n",
    "\n",
    "# 将样本数据标准化到 0-1 区间。\n",
    "\n",
    "X_train = X_train.astype('float32')\n",
    "X_test = X_test.astype('float32')\n",
    "X_train /= 255\n",
    "X_test /= 255\n",
    "\n",
    "# 查看训练集的形状，每个数字都有 6 千个样本，共 6 万张图片。\n",
    "\n",
    "print(\"X_train original shape\", X_train.shape)  \n",
    "print(\"y_train original shape\", y_train.shape)  \n",
    " \n",
    "# 将标签 ( 即 Y 值 ) 处理成 binary matrix, 如下。\n",
    "\n",
    "Y_train = np_utils.to_categorical(y_train, nb_classes)\n",
    "Y_test = np_utils.to_categorical(y_test, nb_classes)  \n",
    "\n",
    "# 建立神经网络模型。\n",
    "\n",
    "model = Sequential()\n",
    "\n",
    "# 创建第一层，卷积层 ( 32 个卷积核，尺寸 3*3 )。\n",
    "\n",
    "model.add(Convolution2D(nb_filter=32, nb_row=3,nb_col=3, border_mode='valid',\n",
    "                        input_shape=input_shape))\n",
    "model.add(Activation('relu'))\n",
    "\n",
    "# 创建第二层，卷积层。\n",
    "\n",
    "model.add(Convolution2D(nb_filter=32, nb_row=3, nb_col=3)) \n",
    "model.add(Activation('relu'))\n",
    "\n",
    "# 创建第三层，池化层。\n",
    "\n",
    "model.add(MaxPooling2D(pool_size=(2,2)))\n",
    "\n",
    "# 创建第四层，全连接层。\n",
    "\n",
    "model.add(Flatten()) \n",
    "model.add(Dense(128)) \n",
    "model.add(Activation('relu')) \n",
    "\n",
    "model.add(Dense(nb_classes)) \n",
    "model.add(Activation('softmax'))\n",
    "\n",
    "# 设置损失函数和优化器。\n",
    "\n",
    "model.compile(loss='categorical_crossentropy',optimizer='adam',metrics=['accuracy'])\n",
    "\n",
    "# 开始训练模型。\n",
    "\n",
    "model.fit(X_train, Y_train, batch_size=128, nb_epoch=15,\n",
    "          verbose=1, validation_data=(X_test, Y_test))\n",
    "\n",
    "# 观察测试集上的准确率。\n",
    "\n",
    "score = model.evaluate(X_test, Y_test, verbose=1)\n",
    "print('Test score:', score[0])\n",
    "print('Test accuracy:', score[1])\n",
    "\n",
    "# 保存模型文件成 json 和 h5 格式，以便后续调用。\n",
    "\n",
    "model_structure = model.to_json()\n",
    "open('model_structure.json', 'w').write(model_structure)\n",
    "model.get_weights()\n",
    "weights = model.save_weights('model_weight.h5', overwrite=True)\n"
   ]
  }
 ],
 "metadata": {
  "kernelspec": {
   "display_name": "Python 3",
   "language": "python",
   "name": "python3"
  },
  "language_info": {
   "codemirror_mode": {
    "name": "ipython",
    "version": 3
   },
   "file_extension": ".py",
   "mimetype": "text/x-python",
   "name": "python",
   "nbconvert_exporter": "python",
   "pygments_lexer": "ipython3",
   "version": "3.5.1"
  }
 },
 "nbformat": 4,
 "nbformat_minor": 0
}
