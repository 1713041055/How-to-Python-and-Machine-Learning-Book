{
 "cells": [
  {
   "cell_type": "markdown",
   "metadata": {},
   "source": [
    "# Python 机器学习实战 ——代码样例\n",
    "\n",
    "# 第十七章 支持向量机"
   ]
  },
  {
   "cell_type": "markdown",
   "metadata": {},
   "source": [
    "## 使用支持向量机分类图片\n",
    "\n",
    "Digits 数据集主要由 8乘以8 大小的阿拉伯数字图片构成，数据集包含 1797 个样本，分为 0-9 十种不同的数字，数据集的样本图片如下图所示：\n",
    "\n",
    "![Digits 数据集](./imgs/digits 数据集.png)\n",
    "\n",
    "在分类过程中首先读取数据集，并将其随机分割成 80%的训练集和 20%的测试集，然后在训练集上采用高斯核函数的 SVM分类器，并在验证集上测试准确率，最后输出混淆矩阵和分类报告。"
   ]
  },
  {
   "cell_type": "code",
   "execution_count": 2,
   "metadata": {
    "collapsed": false
   },
   "outputs": [
    {
     "name": "stderr",
     "output_type": "stream",
     "text": [
      "E:\\Software\\Anaconda\\lib\\site-packages\\sklearn\\cross_validation.py:41: DeprecationWarning: This module was deprecated in version 0.18 in favor of the model_selection module into which all the refactored classes and functions are moved. Also note that the interface of the new CV iterators are different from that of this module. This module will be removed in 0.20.\n",
      "  \"This module will be removed in 0.20.\", DeprecationWarning)\n"
     ]
    },
    {
     "data": {
      "image/png": "[encoded data removed]",
      "text/plain": [
       "<matplotlib.figure.Figure at 0x22aa1378470>"
      ]
     },
     "metadata": {},
     "output_type": "display_data"
    }
   ],
   "source": [
    "# 将matplotlib的图表直接嵌入到Notebook之中。\n",
    "%matplotlib inline  \n",
    "\n",
    "# 导入相关的包。\n",
    "\n",
    "from sklearn.svm import SVC\n",
    "from sklearn.datasets import load_digits\n",
    "from sklearn import cross_validation\n",
    "from sklearn import metrics\n",
    "from matplotlib import pyplot as plt\n",
    "import random\n",
    "\n",
    "# 载入样本数据集。\n",
    "\n",
    "digits = load_digits()\n",
    "\n",
    "# 获取数据集图片及对应的标签。\n",
    "\n",
    "images = digits.images\n",
    "labels = digits.target\n",
    "\n",
    "# 绘制样本图片。\n",
    "\n",
    "for index, (image, label) in enumerate(zip(images[:4], labels[:4])):\n",
    "    plt.subplot(1, 4, index + 1)\n",
    "    plt.axis('off')\n",
    "    plt.imshow(image,cmap=plt.cm.gray_r,interpolation='nearest')\n",
    "    plt.title('Sample: %i' % label)\n",
    "\n"
   ]
  },
  {
   "cell_type": "code",
   "execution_count": 6,
   "metadata": {
    "collapsed": false
   },
   "outputs": [
    {
     "name": "stdout",
     "output_type": "stream",
     "text": [
      "分类报告： SVC(C=1.0, cache_size=200, class_weight=None, coef0=0.0,\n",
      "  decision_function_shape='ovr', degree=3, gamma=0.001, kernel='rbf',\n",
      "  max_iter=-1, probability=False, random_state=None, shrinking=True,\n",
      "  tol=0.001, verbose=False):\n",
      "             precision    recall  f1-score   support\n",
      "\n",
      "          0       1.00      1.00      1.00        40\n",
      "          1       1.00      1.00      1.00        32\n",
      "          2       1.00      1.00      1.00        37\n",
      "          3       0.97      1.00      0.98        30\n",
      "          4       1.00      1.00      1.00        25\n",
      "          5       1.00      1.00      1.00        36\n",
      "          6       1.00      1.00      1.00        45\n",
      "          7       1.00      0.98      0.99        45\n",
      "          8       1.00      1.00      1.00        39\n",
      "          9       0.97      0.97      0.97        30\n",
      "\n",
      "avg / total       0.99      0.99      0.99       359\n",
      "\n",
      "\n",
      "混淆矩阵:\n",
      "[[40  0  0  0  0  0  0  0  0  0]\n",
      " [ 0 32  0  0  0  0  0  0  0  0]\n",
      " [ 0  0 37  0  0  0  0  0  0  0]\n",
      " [ 0  0  0 30  0  0  0  0  0  0]\n",
      " [ 0  0  0  0 25  0  0  0  0  0]\n",
      " [ 0  0  0  0  0 36  0  0  0  0]\n",
      " [ 0  0  0  0  0  0 45  0  0  0]\n",
      " [ 0  0  0  0  0  0  0 44  0  1]\n",
      " [ 0  0  0  0  0  0  0  0 39  0]\n",
      " [ 0  0  0  1  0  0  0  0  0 29]]\n"
     ]
    }
   ],
   "source": [
    "# 转换图片为向量。\n",
    "\n",
    "n_samples = len(images)\n",
    "image_vectors = images.reshape((n_samples, -1))\n",
    "\n",
    "# 分割训练集与测试集。\n",
    "\n",
    "sample_index = list(range(n_samples))\n",
    "test_size = int(n_samples * 0.2)\n",
    "random.shuffle(sample_index)\n",
    "train_index, test_index = sample_index[test_size:], sample_index[:test_size]\n",
    "X_train, Y_train = image_vectors[train_index],labels[train_index]\n",
    "X_test, Y_test = image_vectors[test_index],labels[test_index] \n",
    "\n",
    "# 构建 SVC 分类器训练并预报，使用 rbf 核函数。\n",
    "\n",
    "classifier = SVC(kernel='rbf', C=1.0, gamma=0.001)   \n",
    "classifier.fit(X_train, Y_train)\n",
    "prediction = classifier.predict(X_test)\n",
    "\n",
    "# 输出结果及混淆矩阵。\n",
    "\n",
    "print(\"分类报告： %s:\\n%s\\n\" % \n",
    "      (classifier,metrics.classification_report(Y_test,prediction)))\n",
    "print(\"混淆矩阵:\\n%s\" % metrics.confusion_matrix(Y_test, prediction))\n"
   ]
  }
 ],
 "metadata": {
  "kernelspec": {
   "display_name": "Python 3",
   "language": "python",
   "name": "python3"
  },
  "language_info": {
   "codemirror_mode": {
    "name": "ipython",
    "version": 3
   },
   "file_extension": ".py",
   "mimetype": "text/x-python",
   "name": "python",
   "nbconvert_exporter": "python",
   "pygments_lexer": "ipython3",
   "version": "3.5.1"
  }
 },
 "nbformat": 4,
 "nbformat_minor": 0
}
